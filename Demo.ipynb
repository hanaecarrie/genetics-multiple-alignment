{
 "cells": [
  {
   "cell_type": "markdown",
   "metadata": {},
   "source": [
    "# Demo and tests on multiple DNA sequences alignment"
   ]
  },
  {
   "cell_type": "code",
   "execution_count": 1,
   "metadata": {},
   "outputs": [],
   "source": [
    "from utils import cost, addgap, print_table, deletion, substitution, insertion\n",
    "from alignment import align_nw_2by2, align_star_multiple\n",
    "from numpy.random import choice, randint\n",
    "import numpy as np"
   ]
  },
  {
   "cell_type": "code",
   "execution_count": 2,
   "metadata": {},
   "outputs": [],
   "source": [
    "np.random.seed(42) # fixing random state"
   ]
  },
  {
   "cell_type": "code",
   "execution_count": 3,
   "metadata": {},
   "outputs": [],
   "source": [
    "alphabet = [\"A\", \"C\", \"G\", \"T\"] # nucleotides to consider for DNA sequences"
   ]
  },
  {
   "cell_type": "markdown",
   "metadata": {},
   "source": [
    "## Test \"cost\" function\n",
    "\n",
    "This function returns the score 2 is the two letters are alike and -1 otherwise."
   ]
  },
  {
   "cell_type": "code",
   "execution_count": 4,
   "metadata": {},
   "outputs": [
    {
     "name": "stdout",
     "output_type": "stream",
     "text": [
      "The cost of (G, T) equals -1.\n",
      "The cost of (A, G) equals -1.\n",
      "The cost of (G, T) equals -1.\n",
      "The cost of (A, A) equals 2.\n",
      "The cost of (G, C) equals -1.\n"
     ]
    }
   ],
   "source": [
    "for i in range(5):\n",
    "    l1 = choice(alphabet)\n",
    "    l2 = choice(alphabet)\n",
    "    print(\"The cost of ({}, {}) equals {}.\".format(l1, l2, cost(l1, l2)))"
   ]
  },
  {
   "cell_type": "markdown",
   "metadata": {},
   "source": [
    "## Test \"addgap\" function\n",
    "\n",
    "This function **successively** adds gaps in the sequence at positions indicated in the *gaplist* argument."
   ]
  },
  {
   "cell_type": "code",
   "execution_count": 5,
   "metadata": {},
   "outputs": [
    {
     "name": "stdout",
     "output_type": "stream",
     "text": [
      "The initial sequence equals: GGGGTAT and the gaplist equals: [7 7 2 5 4].\n",
      "gap introduced in 7th position -> new sequence equals GGGGTAT_.\n",
      "gap introduced in 7th position -> new sequence equals GGGGTAT__.\n",
      "gap introduced in 2th position -> new sequence equals GG_GGTAT__.\n",
      "gap introduced in 5th position -> new sequence equals GG_GG_TAT__.\n",
      "gap introduced in 4th position -> new sequence equals GG_G_G_TAT__.\n",
      "The final sequence equals:   GG_G_G_TAT__.\n"
     ]
    }
   ],
   "source": [
    "seq = ''.join(choice(alphabet, 7))\n",
    "gaplist = randint(7+5, size=5)\n",
    "print(\"The initial sequence equals: {} and the gaplist equals: {}.\".format(seq, gaplist))\n",
    "newseq = addgap(seq, gaplist, verbose=1)\n",
    "print(\"The final sequence equals:   {}.\".format(newseq))"
   ]
  },
  {
   "cell_type": "markdown",
   "metadata": {},
   "source": [
    "## Test \"align_nw_2by2\" function\n",
    "\n",
    "This function aligns 2 sequences with the Needleman & Wunsch method and returns:\n",
    "\n",
    "* the score matrix\n",
    "* the path matrix\n",
    "* the aligned sequences\n",
    "* the list of introduced gaps"
   ]
  },
  {
   "cell_type": "code",
   "execution_count": 6,
   "metadata": {},
   "outputs": [
    {
     "name": "stdout",
     "output_type": "stream",
     "text": [
      "The initial sequences are:\n",
      "ATGAGAT AGGAGAGT\n",
      "The aligned sequences are:\n",
      "['ATGAGA_T', 'AGGAGAGT']\n",
      "The positions of the introduced gaps are:\n",
      "[]\n",
      "The score matrix equals:\n"
     ]
    },
    {
     "data": {
      "image/png": "[encoded data removed]",
      "text/plain": [
       "<Figure size 432x288 with 1 Axes>"
      ]
     },
     "metadata": {},
     "output_type": "display_data"
    },
    {
     "name": "stdout",
     "output_type": "stream",
     "text": [
      "None\n",
      "The path matrix equals:\n"
     ]
    },
    {
     "data": {
      "image/png": "[encoded data removed]",
      "text/plain": [
       "<Figure size 432x288 with 1 Axes>"
      ]
     },
     "metadata": {},
     "output_type": "display_data"
    },
    {
     "name": "stdout",
     "output_type": "stream",
     "text": [
      "None\n"
     ]
    }
   ],
   "source": [
    "s1 = \"ATGAGAT\"\n",
    "s2 = \"AGGAGAGT\"\n",
    "res2by2 = align_nw_2by2(s1, s2)\n",
    "print(\"The initial sequences are:\")\n",
    "print(s1, s2)\n",
    "print(\"The aligned sequences are:\")\n",
    "print(res2by2[2])\n",
    "print(\"The positions of the introduced gaps are:\")\n",
    "print(res2by2[3])\n",
    "print(\"The score matrix equals:\")\n",
    "print(print_table(res2by2[0]))\n",
    "print(\"The path matrix equals:\")\n",
    "print(print_table(res2by2[1]))"
   ]
  },
  {
   "cell_type": "markdown",
   "metadata": {},
   "source": [
    "## Test \"align_star_multiple\" function"
   ]
  },
  {
   "cell_type": "markdown",
   "metadata": {},
   "source": [
    "### EXAMPLE 1: COURSE SLIDES PAGE 16\n",
    "\n",
    "This example should return:\n",
    "- A TGAGA_T\n",
    "- A GGAGAGT\n",
    "- _ GGAG_G_\n",
    "- A GG_GAGT\n",
    "- A _GA_A_C"
   ]
  },
  {
   "cell_type": "code",
   "execution_count": 7,
   "metadata": {},
   "outputs": [
    {
     "name": "stdout",
     "output_type": "stream",
     "text": [
      "pairs = [(0, 1), (0, 2), (0, 3), (0, 4), (1, 2), (1, 3), (1, 4), (2, 3), (2, 4), (3, 4)]\n",
      "scores2a2 = [8.0, -2.0, 3.0, 1.0, 1.0, 11.0, -2.0, 1.0, 1.0, -2.0]\n",
      "global scores = [10.0, 18.0, 1.0, 13.0, -2.0]\n",
      "pivot sequence =  AGGAGAGT\n",
      "initial seqs =\n",
      "ATGAGAT\n",
      "AGGAGAGT\n",
      "GGAGG\n",
      "AGGGAGT\n",
      "AGAAC\n",
      "res aligned to pivot =\n",
      "ATGAGA_T\n",
      "AGGAGAGT\n",
      "_GGAG_G_\n",
      "AGG_GAGT\n",
      "A_GA_A_C\n"
     ]
    },
    {
     "data": {
      "text/plain": [
       "['ATGAGA_T', 'AGGAGAGT', '_GGAG_G_', 'AGG_GAGT', 'A_GA_A_C']"
      ]
     },
     "execution_count": 7,
     "metadata": {},
     "output_type": "execute_result"
    }
   ],
   "source": [
    "align_star_multiple([\"ATGAGAT\", \"AGGAGAGT\", \"GGAGG\", \"AGGGAGT\", \"AGAAC\"])"
   ]
  },
  {
   "cell_type": "markdown",
   "metadata": {},
   "source": [
    "### EXAMPLE 2: TEST ON SYNTHETIZED DATA - Simple modifications (substitutions, deletions, insertions)\n",
    "\n",
    "Test with one mutation per sequence either at the beginning, at the end or in the middle."
   ]
  },
  {
   "cell_type": "code",
   "execution_count": 8,
   "metadata": {},
   "outputs": [
    {
     "name": "stdout",
     "output_type": "stream",
     "text": [
      "pairs = [(0, 1), (0, 2), (0, 3), (0, 4), (0, 5), (0, 6), (0, 7), (0, 8), (0, 9), (1, 2), (1, 3), (1, 4), (1, 5), (1, 6), (1, 7), (1, 8), (1, 9), (2, 3), (2, 4), (2, 5), (2, 6), (2, 7), (2, 8), (2, 9), (3, 4), (3, 5), (3, 6), (3, 7), (3, 8), (3, 9), (4, 5), (4, 6), (4, 7), (4, 8), (4, 9), (5, 6), (5, 7), (5, 8), (5, 9), (6, 7), (6, 8), (6, 9), (7, 8), (7, 9), (8, 9)]\n",
      "scores2a2 = [17.0, 15.0, 17.0, 17.0, 15.0, 17.0, 17.0, 15.0, 17.0, 15.0, 14.0, 14.0, 12.0, 14.0, 14.0, 12.0, 14.0, 12.0, 12.0, 12.0, 12.0, 12.0, 12.0, 12.0, 14.0, 12.0, 14.0, 14.0, 12.0, 16.0, 15.0, 14.0, 14.0, 12.0, 14.0, 12.0, 12.0, 10.0, 12.0, 14.0, 12.0, 14.0, 15.0, 14.0, 12.0]\n",
      "global scores = [147.0, 126.0, 114.0, 125.0, 126.0, 112.0, 123.0, 126.0, 112.0, 125.0]\n",
      "pivot sequence =  CTTCCCTTAA\n",
      "initial seqs =\n",
      "CTTCCCTTAA\n",
      "CTTCCGTTAA\n",
      "CTTCCTTAA\n",
      "CTTCCCCTTAA\n",
      "ATTCCCTTAA\n",
      "TTCCCTTAA\n",
      "TCTTCCCTTAA\n",
      "CTTCCCTTAC\n",
      "CTTCCCTTA\n",
      "CTTCCCTTAAA\n",
      "res aligned to pivot =\n",
      "_CTT_CCCTT_AA\n",
      "_CTT_CCGTT_AA\n",
      "_CTT__CCTT_AA\n",
      "_CTTCCCCTT_AA\n",
      "_ATT_CCCTT_AA\n",
      "__TT_CCCTT_AA\n",
      "TCTT_CCCTT_AA\n",
      "_CTT_CCCTT_AC\n",
      "_CTT_CCCTT__A\n",
      "_CTT_CCCTTAAA\n"
     ]
    },
    {
     "data": {
      "text/plain": [
       "['_CTT_CCCTT_AA',\n",
       " '_CTT_CCGTT_AA',\n",
       " '_CTT__CCTT_AA',\n",
       " '_CTTCCCCTT_AA',\n",
       " '_ATT_CCCTT_AA',\n",
       " '__TT_CCCTT_AA',\n",
       " 'TCTT_CCCTT_AA',\n",
       " '_CTT_CCCTT_AC',\n",
       " '_CTT_CCCTT__A',\n",
       " '_CTT_CCCTTAAA']"
      ]
     },
     "execution_count": 8,
     "metadata": {},
     "output_type": "execute_result"
    }
   ],
   "source": [
    "n = 10 # length of the initial sequence\n",
    "seq0 = choice(alphabet, n)\n",
    "seq0 = ''.join(seq0)\n",
    "\n",
    "# seq 1 = substitution middle\n",
    "seq1 = substitution(seq0, int(n/2))\n",
    "# seq 2 = deletion middle\n",
    "seq2 = deletion(seq0, int(n/2)-1)\n",
    "# seq 3 = insertion middle\n",
    "seq3 = insertion(seq0, int(n/2))\n",
    "\n",
    "# seq 4 = substitution begining\n",
    "seq4 = substitution(seq0, 0)\n",
    "# seq 5 = deletion begining\n",
    "seq5 = deletion(seq0, 0)\n",
    "# seq 6 = insertion begining\n",
    "seq6 = insertion(seq0, 0)\n",
    "\n",
    "# seq 7 = substitution end\n",
    "seq7 = substitution(seq0, -1)\n",
    "# seq 8 = deletion end\n",
    "seq8 = deletion(seq0, -1)\n",
    "# seq 9 = insertion end\n",
    "seq9 = insertion(seq0, -1)\n",
    "\n",
    "# global alignement\n",
    "align_star_multiple([seq0, seq1, seq2, seq3, seq4, seq5, seq6, seq7, seq8, seq9])"
   ]
  },
  {
   "cell_type": "markdown",
   "metadata": {},
   "source": [
    "### EXAMPLE 3: TEST ON SYNTHETIZED DATA - Two succesive simple modifications (substitutions, deletions, insertions)\n",
    "\n",
    "Test with two successive mutations per sequence of the same kind (substitution, deletion or insertion) either at the beginning, at the end or in the middle."
   ]
  },
  {
   "cell_type": "code",
   "execution_count": 9,
   "metadata": {},
   "outputs": [
    {
     "name": "stdout",
     "output_type": "stream",
     "text": [
      "pairs = [(0, 1), (0, 2), (0, 3), (0, 4), (0, 5), (0, 6), (0, 7), (0, 8), (0, 9), (1, 2), (1, 3), (1, 4), (1, 5), (1, 6), (1, 7), (1, 8), (1, 9), (2, 3), (2, 4), (2, 5), (2, 6), (2, 7), (2, 8), (2, 9), (3, 4), (3, 5), (3, 6), (3, 7), (3, 8), (3, 9), (4, 5), (4, 6), (4, 7), (4, 8), (4, 9), (5, 6), (5, 7), (5, 8), (5, 9), (6, 7), (6, 8), (6, 9), (7, 8), (7, 9), (8, 9)]\n",
      "scores2a2 = [14.0, 10.0, 14.0, 14.0, 10.0, 14.0, 14.0, 10.0, 14.0, 10.0, 11.0, 8.0, 4.0, 8.0, 8.0, 4.0, 8.0, 4.0, 4.0, 7.0, 4.0, 4.0, 10.0, 4.0, 8.0, 4.0, 10.0, 8.0, 4.0, 9.0, 10.0, 8.0, 8.0, 4.0, 8.0, 4.0, 4.0, 1.0, 4.0, 8.0, 4.0, 8.0, 10.0, 8.0, 4.0]\n",
      "global scores = [114.0, 75.0, 57.0, 72.0, 72.0, 48.0, 68.0, 72.0, 51.0, 67.0]\n",
      "pivot sequence =  GGGCTTTTGC\n",
      "initial seqs =\n",
      "GGGCTTTTGC\n",
      "GGGCTCGTGC\n",
      "GGGCTTGC\n",
      "GGGCTGCTTTGC\n",
      "TAGCTTTTGC\n",
      "GCTTTTGC\n",
      "AGGGGCTTTTGC\n",
      "GGGCTTTTTT\n",
      "GGGCTTTT\n",
      "GGGCTTTTGAAC\n",
      "res aligned to pivot =\n",
      "GGGCT__TTTGC\n",
      "GGGCT__CGTGC\n",
      "GGGC____TTGC\n",
      "GGGCTGCTTTGC\n",
      "TAGCT__TTTGC\n",
      "__GCT__TTTGC\n",
      "AGGGGCTTTTGC\n",
      "GGGCT__TTTTT\n",
      "GGGCT__TTT__\n",
      "GGGCTTTTGAAC\n"
     ]
    },
    {
     "data": {
      "text/plain": [
       "['GGGCT__TTTGC',\n",
       " 'GGGCT__CGTGC',\n",
       " 'GGGC____TTGC',\n",
       " 'GGGCTGCTTTGC',\n",
       " 'TAGCT__TTTGC',\n",
       " '__GCT__TTTGC',\n",
       " 'AGGGGCTTTTGC',\n",
       " 'GGGCT__TTTTT',\n",
       " 'GGGCT__TTT__',\n",
       " 'GGGCTTTTGAAC']"
      ]
     },
     "execution_count": 9,
     "metadata": {},
     "output_type": "execute_result"
    }
   ],
   "source": [
    "n = 10 # length of the initial sequence\n",
    "seq0 = choice(alphabet, n)\n",
    "seq0 = ''.join(seq0)\n",
    "\n",
    "# seq 1 = substitution middle\n",
    "seq1 = substitution(seq0, int(n/2))\n",
    "seq1 = substitution(seq1, int(n/2)+1)\n",
    "# seq 2 = deletion middle\n",
    "seq2 = deletion(seq0, int(n/2)-1)\n",
    "seq2 = deletion(seq2, int(n/2)-1)\n",
    "# seq 3 = insertion middle\n",
    "seq3 = insertion(seq0, int(n/2))\n",
    "seq3 = insertion(seq3, int(n/2))\n",
    "\n",
    "\n",
    "# seq 4 = substitution begining\n",
    "seq4 = substitution(seq0, 0)\n",
    "seq4 = substitution(seq4, 1)\n",
    "# seq 5 = deletion begining\n",
    "seq5 = deletion(seq0, 0)\n",
    "seq5 = deletion(seq5, 0)\n",
    "# seq 6 = insertion begining\n",
    "seq6 = insertion(seq0, 0)\n",
    "seq6 = insertion(seq6, 0)\n",
    "\n",
    "# seq 7 = substitution end\n",
    "seq7 = substitution(seq0, -1)\n",
    "seq7 = substitution(seq7, -2)\n",
    "# seq 8 = deletion end\n",
    "seq8 = deletion(seq0, -1)\n",
    "seq8 = deletion(seq8, -1)\n",
    "# seq 9 = insertion end\n",
    "seq9 = insertion(seq0, -1)\n",
    "seq9 = insertion(seq9, -1)\n",
    "\n",
    "# global alignement\n",
    "align_star_multiple([seq0, seq1, seq2, seq3, seq4, seq5, seq6, seq7, seq8, seq9])"
   ]
  },
  {
   "cell_type": "markdown",
   "metadata": {},
   "source": [
    "### EXAMPLE 3: TEST ON SYNTHETIZED DATA - Two succesive simple modifications (substitutions, deletions, insertions)\n",
    "\n",
    "Test with two successive mutations per sequence of the same kind (substitution, deletion or insertion) either at the beginning, at the end or in the middle."
   ]
  },
  {
   "cell_type": "code",
   "execution_count": 10,
   "metadata": {},
   "outputs": [
    {
     "name": "stdout",
     "output_type": "stream",
     "text": [
      "pairs = [(0, 1), (0, 2), (0, 3), (0, 4), (0, 5), (0, 6), (0, 7), (0, 8), (0, 9), (1, 2), (1, 3), (1, 4), (1, 5), (1, 6), (1, 7), (1, 8), (1, 9), (2, 3), (2, 4), (2, 5), (2, 6), (2, 7), (2, 8), (2, 9), (3, 4), (3, 5), (3, 6), (3, 7), (3, 8), (3, 9), (4, 5), (4, 6), (4, 7), (4, 8), (4, 9), (5, 6), (5, 7), (5, 8), (5, 9), (6, 7), (6, 8), (6, 9), (7, 8), (7, 9), (8, 9)]\n",
      "scores2a2 = [12.0, 12.0, 14.0, 12.0, 12.0, 14.0, 12.0, 14.0, 14.0, 6.0, 6.0, 7.0, 12.0, 6.0, 9.0, 6.0, 6.0, 6.0, 4.0, 8.0, 8.0, 6.0, 6.0, 6.0, 9.0, 8.0, 11.0, 12.0, 14.0, 10.0, 7.0, 6.0, 7.0, 12.0, 6.0, 6.0, 9.0, 9.0, 8.0, 6.0, 8.0, 8.0, 9.0, 9.0, 11.0]\n",
      "global scores = [116.0, 70.0, 62.0, 90.0, 70.0, 79.0, 73.0, 79.0, 89.0, 78.0]\n",
      "pivot sequence =  GCTATCCCAC\n",
      "initial seqs =\n",
      "GCTATCCCAC\n",
      "CTATACCAC\n",
      "GCCTACCCAC\n",
      "GCTATCTCCAT\n",
      "TCTATCCCA\n",
      "CTATTCCCAC\n",
      "AGCTATCTCAC\n",
      "GTATCCCAT\n",
      "GCTATCCCCA\n",
      "GGTATCCCAAC\n",
      "res aligned to pivot =\n",
      "G_CTATC_CCAC\n",
      "__CTATA_CCAC\n",
      "GCCTA_C_CCAC\n",
      "G_CTATCTCCAT\n",
      "_TCTATC_CCA_\n",
      "__CTATTCCCAC\n",
      "AGCTATC_TCAC\n",
      "G__TATC_CCAT\n",
      "G_CTATCCCCA_\n",
      "G_GTATCCCAAC\n"
     ]
    },
    {
     "data": {
      "text/plain": [
       "['G_CTATC_CCAC',\n",
       " '__CTATA_CCAC',\n",
       " 'GCCTA_C_CCAC',\n",
       " 'G_CTATCTCCAT',\n",
       " '_TCTATC_CCA_',\n",
       " '__CTATTCCCAC',\n",
       " 'AGCTATC_TCAC',\n",
       " 'G__TATC_CCAT',\n",
       " 'G_CTATCCCCA_',\n",
       " 'G_GTATCCCAAC']"
      ]
     },
     "execution_count": 10,
     "metadata": {},
     "output_type": "execute_result"
    }
   ],
   "source": [
    "n = 10 # length of the initial sequence\n",
    "seq0 = choice(alphabet, n)\n",
    "seq0 = ''.join(seq0)\n",
    "\n",
    "# seq 1\n",
    "seq1 = substitution(seq0, int(n/2))\n",
    "seq1 = deletion(seq1, 0)\n",
    "# seq 2\n",
    "seq2 = deletion(seq0, int(n/2)-1)\n",
    "seq2 = insertion(seq2, 1)\n",
    "# seq 3\n",
    "seq3 = insertion(seq0, int(n/2)+1)\n",
    "seq3 = substitution(seq3, -1)\n",
    "\n",
    "# seq 4\n",
    "seq4 = substitution(seq0, 0)\n",
    "seq4 = deletion(seq4, -1)\n",
    "# seq 5\n",
    "seq5 = deletion(seq0, 0)\n",
    "seq5 = insertion(seq5, int(n/2)-1)\n",
    "# seq 6\n",
    "seq6 = insertion(seq0, 0)\n",
    "seq6 = substitution(seq6, 7)\n",
    "\n",
    "# seq 7\n",
    "seq7 = substitution(seq0, -1)\n",
    "seq7 = deletion(seq7, 1)\n",
    "# seq 8\n",
    "seq8 = deletion(seq0, -1)\n",
    "seq8 = insertion(seq8, int(n/2))\n",
    "# seq 9\n",
    "seq9 = insertion(seq0, -1)\n",
    "seq9 = substitution(seq9, 1)\n",
    "\n",
    "# global alignement\n",
    "align_star_multiple([seq0, seq1, seq2, seq3, seq4, seq5, seq6, seq7, seq8, seq9])"
   ]
  },
  {
   "cell_type": "code",
   "execution_count": null,
   "metadata": {},
   "outputs": [],
   "source": []
  }
 ],
 "metadata": {
  "kernelspec": {
   "display_name": "Python 3",
   "language": "python",
   "name": "python3"
  },
  "language_info": {
   "codemirror_mode": {
    "name": "ipython",
    "version": 3
   },
   "file_extension": ".py",
   "mimetype": "text/x-python",
   "name": "python",
   "nbconvert_exporter": "python",
   "pygments_lexer": "ipython3",
   "version": "3.6.8"
  }
 },
 "nbformat": 4,
 "nbformat_minor": 2
}
